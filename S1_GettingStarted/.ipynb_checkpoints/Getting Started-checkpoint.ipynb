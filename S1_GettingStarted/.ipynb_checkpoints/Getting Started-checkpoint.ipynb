{
 "cells": [
  {
   "attachments": {
    "image.png": {
     "image/png": "[encoded data removed]"
    }
   },
   "cell_type": "markdown",
   "metadata": {},
   "source": [
    "## Introduction \n",
    "This is my note during the online course Angular 4' in Udemy. The content for this course is about\n",
    "1. What the Angular is\n",
    "2. How to use Angular to build front-end, reactive webpage\n",
    "3. From basic to advance features \n",
    "4. Puting all experiences to real, practical web application\n",
    "\n",
    "### What is Angular?\n",
    "Anglular is a JavaScript Framework allow you to create a single page application.\n",
    " - Seem to use multiple webpages but a single webpage\n",
    " - Very reactive experience \n",
    " - Very fast, convenient \n",
    " - Sever request can be done in background for user experience \n",
    " \n",
    "Html code is change automatically. \n",
    "\n",
    "### Angular 1 vs. Angular 2 vs. Angular 4\n",
    "What is the difference between these version? Angular 1 is the first Angular version for the first time very reactive single page. Angular 2 is totally rewrite Angular 1. Angular 4 is the upgraded version of Angular 2. The version 3 is skipped due to some internal reason. So if you want to learn Angular, go straight to Angular 4\n",
    "\n",
    "## Project Setup and The First App\n",
    "In this course, we use Angular 4 CLI which is using command line for some advance commands and easier management. \n",
    "\n",
    "### Working Environment\n",
    "In this class, I use Angular 4 in Window 10 OS with WebStorm IDE.\n",
    "\n",
    "### How to install Angular 4 (CLI)?\n",
    "The required package to install Angular 4 CLI is\n",
    "* Note JS (https://nodejs.org), newest version: for CLI build project, manage dependency, little development sever, local machine for easy test. Go the straight forward installation.  \n",
    "\n",
    "Then we can go ahead and install CLI (https://cli.angular.io/) by simply running the commandline in cmd\n",
    "![image.png](attachment:image.png)\n",
    "<center>Fig.1. CLI installation commands</center>"
   ]
  },
  {
   "cell_type": "markdown",
   "metadata": {},
   "source": [
    "- The first line is about installing the angular package cli. **sudo** command is required for Linux OS. \n",
    "\n",
    "### Setup the first app\n",
    "- The second line is about creating new project in new folder name **my-dream-app** in the current folder. All project files are stored in thí folder. \n",
    "![Create new app](images/create new app.png)\n",
    "<center> Fig.2. Create new app project.</center>\n",
    "- Then you go to the new folder and turn on the engince with 'ng serve'\n",
    "\n",
    "![ng - serve](images/ng-serve.png)\n",
    "<center> Fig.3. Runining with ng serve. </center> \n",
    "\n",
    "By default, we can access the local development sever at \n",
    "> localhost:4200\n",
    "\n",
    "as in my Chrome browser\n",
    "\n",
    "![My dream app in Chrome](images/my-dream-app_chrome.png)\n",
    "<center> Fig.4. App display in Google Chrome browser </center>\n",
    "\n",
    "Note that, we can change the default port by using this command\n",
    "\n",
    "> ng serve --port Your_Port\n"
   ]
  },
  {
   "attachments": {},
   "cell_type": "markdown",
   "metadata": {
    "collapsed": true
   },
   "source": [
    "#### Your first hello apps\n",
    "To edit the project, we can use some IDE like WebStorm, Visual Studio Code, Vim, Atom etc. This course uses WebStorm. A common project contains folders and files as \n",
    "![project structure](images/project-structure.png)\n",
    "<center> Fig.5. Project files structure. </center>"
   ]
  },
  {
   "attachments": {},
   "cell_type": "markdown",
   "metadata": {},
   "source": [
    "\n",
    "The app folder contain files listed here\n",
    "\n",
    "![appcomponent](images/app-component-ts.png)\n",
    "<center> Fig.6. Details of app folder and app.component.ts </center>\n",
    "\n",
    "If we take a look at *app.component.ts*, we can see that the title = 'app' which display as the title \"Welcome to app!\" in our browser. If the *ng serve* is still runing, when you change the title to 'my app', save the file. Then, the browser will automatically change its title without refresh. "
   ]
  },
  {
   "cell_type": "code",
   "execution_count": null,
   "metadata": {
    "collapsed": true
   },
   "outputs": [],
   "source": []
  }
 ],
 "metadata": {
  "kernelspec": {
   "display_name": "Python 2",
   "language": "python",
   "name": "python2"
  },
  "language_info": {
   "codemirror_mode": {
    "name": "ipython",
    "version": 2
   },
   "file_extension": ".py",
   "mimetype": "text/x-python",
   "name": "python",
   "nbconvert_exporter": "python",
   "pygments_lexer": "ipython2",
   "version": "2.7.13"
  }
 },
 "nbformat": 4,
 "nbformat_minor": 2
}
